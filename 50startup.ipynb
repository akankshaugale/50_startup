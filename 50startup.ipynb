{
 "cells": [
  {
   "cell_type": "code",
   "execution_count": 72,
   "metadata": {
    "executionInfo": {
     "elapsed": 998,
     "status": "ok",
     "timestamp": 1666170309096,
     "user": {
      "displayName": "Akanksha Ugale",
      "userId": "02088164551666559591"
     },
     "user_tz": -330
    },
    "id": "UlhlEEDq1MDz"
   },
   "outputs": [],
   "source": [
    "import numpy as np\n",
    "import pandas as pd\n",
    "import matplotlib.pyplot as plt\n",
    "import seaborn as sns"
   ]
  },
  {
   "cell_type": "code",
   "execution_count": 73,
   "metadata": {
    "executionInfo": {
     "elapsed": 6,
     "status": "ok",
     "timestamp": 1666170309097,
     "user": {
      "displayName": "Akanksha Ugale",
      "userId": "02088164551666559591"
     },
     "user_tz": -330
    },
    "id": "CM41RJ7D5Q2U"
   },
   "outputs": [],
   "source": [
    "startup = pd.read_csv('50_Startups.csv')"
   ]
  },
  {
   "cell_type": "code",
   "execution_count": 74,
   "metadata": {
    "colab": {
     "base_uri": "https://localhost:8080/",
     "height": 206
    },
    "executionInfo": {
     "elapsed": 11,
     "status": "ok",
     "timestamp": 1666170310006,
     "user": {
      "displayName": "Akanksha Ugale",
      "userId": "02088164551666559591"
     },
     "user_tz": -330
    },
    "id": "p_oJl4L25czT",
    "outputId": "8636b0ea-7bf2-4535-9b7a-5f719059484e"
   },
   "outputs": [
    {
     "data": {
      "text/html": [
       "<div>\n",
       "<style scoped>\n",
       "    .dataframe tbody tr th:only-of-type {\n",
       "        vertical-align: middle;\n",
       "    }\n",
       "\n",
       "    .dataframe tbody tr th {\n",
       "        vertical-align: top;\n",
       "    }\n",
       "\n",
       "    .dataframe thead th {\n",
       "        text-align: right;\n",
       "    }\n",
       "</style>\n",
       "<table border=\"1\" class=\"dataframe\">\n",
       "  <thead>\n",
       "    <tr style=\"text-align: right;\">\n",
       "      <th></th>\n",
       "      <th>R&amp;D Spend</th>\n",
       "      <th>Administration</th>\n",
       "      <th>Marketing Spend</th>\n",
       "      <th>State</th>\n",
       "      <th>Profit</th>\n",
       "    </tr>\n",
       "  </thead>\n",
       "  <tbody>\n",
       "    <tr>\n",
       "      <th>0</th>\n",
       "      <td>165349.20</td>\n",
       "      <td>136897.80</td>\n",
       "      <td>471784.10</td>\n",
       "      <td>New York</td>\n",
       "      <td>192261.83</td>\n",
       "    </tr>\n",
       "    <tr>\n",
       "      <th>1</th>\n",
       "      <td>162597.70</td>\n",
       "      <td>151377.59</td>\n",
       "      <td>443898.53</td>\n",
       "      <td>California</td>\n",
       "      <td>191792.06</td>\n",
       "    </tr>\n",
       "    <tr>\n",
       "      <th>2</th>\n",
       "      <td>153441.51</td>\n",
       "      <td>101145.55</td>\n",
       "      <td>407934.54</td>\n",
       "      <td>Florida</td>\n",
       "      <td>191050.39</td>\n",
       "    </tr>\n",
       "    <tr>\n",
       "      <th>3</th>\n",
       "      <td>144372.41</td>\n",
       "      <td>118671.85</td>\n",
       "      <td>383199.62</td>\n",
       "      <td>New York</td>\n",
       "      <td>182901.99</td>\n",
       "    </tr>\n",
       "    <tr>\n",
       "      <th>4</th>\n",
       "      <td>142107.34</td>\n",
       "      <td>91391.77</td>\n",
       "      <td>366168.42</td>\n",
       "      <td>Florida</td>\n",
       "      <td>166187.94</td>\n",
       "    </tr>\n",
       "  </tbody>\n",
       "</table>\n",
       "</div>"
      ],
      "text/plain": [
       "   R&D Spend  Administration  Marketing Spend       State     Profit\n",
       "0  165349.20       136897.80        471784.10    New York  192261.83\n",
       "1  162597.70       151377.59        443898.53  California  191792.06\n",
       "2  153441.51       101145.55        407934.54     Florida  191050.39\n",
       "3  144372.41       118671.85        383199.62    New York  182901.99\n",
       "4  142107.34        91391.77        366168.42     Florida  166187.94"
      ]
     },
     "execution_count": 74,
     "metadata": {},
     "output_type": "execute_result"
    }
   ],
   "source": [
    "startup.head()"
   ]
  },
  {
   "cell_type": "code",
   "execution_count": 75,
   "metadata": {
    "colab": {
     "base_uri": "https://localhost:8080/",
     "height": 206
    },
    "executionInfo": {
     "elapsed": 9,
     "status": "ok",
     "timestamp": 1666170311994,
     "user": {
      "displayName": "Akanksha Ugale",
      "userId": "02088164551666559591"
     },
     "user_tz": -330
    },
    "id": "OrvKg4yq5jWB",
    "outputId": "6a42ce57-c361-429b-8cd1-8c78c1d38608"
   },
   "outputs": [
    {
     "data": {
      "text/html": [
       "<div>\n",
       "<style scoped>\n",
       "    .dataframe tbody tr th:only-of-type {\n",
       "        vertical-align: middle;\n",
       "    }\n",
       "\n",
       "    .dataframe tbody tr th {\n",
       "        vertical-align: top;\n",
       "    }\n",
       "\n",
       "    .dataframe thead th {\n",
       "        text-align: right;\n",
       "    }\n",
       "</style>\n",
       "<table border=\"1\" class=\"dataframe\">\n",
       "  <thead>\n",
       "    <tr style=\"text-align: right;\">\n",
       "      <th></th>\n",
       "      <th>R&amp;D Spend</th>\n",
       "      <th>Administration</th>\n",
       "      <th>Marketing Spend</th>\n",
       "      <th>State</th>\n",
       "      <th>Profit</th>\n",
       "    </tr>\n",
       "  </thead>\n",
       "  <tbody>\n",
       "    <tr>\n",
       "      <th>45</th>\n",
       "      <td>1000.23</td>\n",
       "      <td>124153.04</td>\n",
       "      <td>1903.93</td>\n",
       "      <td>New York</td>\n",
       "      <td>64926.08</td>\n",
       "    </tr>\n",
       "    <tr>\n",
       "      <th>46</th>\n",
       "      <td>1315.46</td>\n",
       "      <td>115816.21</td>\n",
       "      <td>297114.46</td>\n",
       "      <td>Florida</td>\n",
       "      <td>49490.75</td>\n",
       "    </tr>\n",
       "    <tr>\n",
       "      <th>47</th>\n",
       "      <td>0.00</td>\n",
       "      <td>135426.92</td>\n",
       "      <td>0.00</td>\n",
       "      <td>California</td>\n",
       "      <td>42559.73</td>\n",
       "    </tr>\n",
       "    <tr>\n",
       "      <th>48</th>\n",
       "      <td>542.05</td>\n",
       "      <td>51743.15</td>\n",
       "      <td>0.00</td>\n",
       "      <td>New York</td>\n",
       "      <td>35673.41</td>\n",
       "    </tr>\n",
       "    <tr>\n",
       "      <th>49</th>\n",
       "      <td>0.00</td>\n",
       "      <td>116983.80</td>\n",
       "      <td>45173.06</td>\n",
       "      <td>California</td>\n",
       "      <td>14681.40</td>\n",
       "    </tr>\n",
       "  </tbody>\n",
       "</table>\n",
       "</div>"
      ],
      "text/plain": [
       "    R&D Spend  Administration  Marketing Spend       State    Profit\n",
       "45    1000.23       124153.04          1903.93    New York  64926.08\n",
       "46    1315.46       115816.21        297114.46     Florida  49490.75\n",
       "47       0.00       135426.92             0.00  California  42559.73\n",
       "48     542.05        51743.15             0.00    New York  35673.41\n",
       "49       0.00       116983.80         45173.06  California  14681.40"
      ]
     },
     "execution_count": 75,
     "metadata": {},
     "output_type": "execute_result"
    }
   ],
   "source": [
    "startup.tail()"
   ]
  },
  {
   "cell_type": "code",
   "execution_count": 76,
   "metadata": {
    "colab": {
     "base_uri": "https://localhost:8080/"
    },
    "executionInfo": {
     "elapsed": 5,
     "status": "ok",
     "timestamp": 1666170312433,
     "user": {
      "displayName": "Akanksha Ugale",
      "userId": "02088164551666559591"
     },
     "user_tz": -330
    },
    "id": "YNRbFR4F5nex",
    "outputId": "63a81fef-748b-443b-dc0d-cfc3e0c07db0"
   },
   "outputs": [
    {
     "data": {
      "text/plain": [
       "(50, 5)"
      ]
     },
     "execution_count": 76,
     "metadata": {},
     "output_type": "execute_result"
    }
   ],
   "source": [
    "startup.shape"
   ]
  },
  {
   "cell_type": "code",
   "execution_count": 77,
   "metadata": {
    "colab": {
     "base_uri": "https://localhost:8080/"
    },
    "executionInfo": {
     "elapsed": 10,
     "status": "ok",
     "timestamp": 1666170313408,
     "user": {
      "displayName": "Akanksha Ugale",
      "userId": "02088164551666559591"
     },
     "user_tz": -330
    },
    "id": "EJq04tJ85p0Q",
    "outputId": "a738a86b-157b-4fc5-ffff-26e9f57337aa"
   },
   "outputs": [
    {
     "data": {
      "text/plain": [
       "250"
      ]
     },
     "execution_count": 77,
     "metadata": {},
     "output_type": "execute_result"
    }
   ],
   "source": [
    "startup.size"
   ]
  },
  {
   "cell_type": "code",
   "execution_count": 78,
   "metadata": {
    "colab": {
     "base_uri": "https://localhost:8080/"
    },
    "executionInfo": {
     "elapsed": 368,
     "status": "ok",
     "timestamp": 1666170314573,
     "user": {
      "displayName": "Akanksha Ugale",
      "userId": "02088164551666559591"
     },
     "user_tz": -330
    },
    "id": "_miIsyBC5uIO",
    "outputId": "25cf943d-c742-4f7d-d0ab-fcd6e77dbd44"
   },
   "outputs": [
    {
     "data": {
      "text/plain": [
       "R&D Spend          0\n",
       "Administration     0\n",
       "Marketing Spend    0\n",
       "State              0\n",
       "Profit             0\n",
       "dtype: int64"
      ]
     },
     "execution_count": 78,
     "metadata": {},
     "output_type": "execute_result"
    }
   ],
   "source": [
    "startup.isnull().sum()"
   ]
  },
  {
   "cell_type": "markdown",
   "metadata": {
    "id": "wf9vNtub54OI"
   },
   "source": [
    "Data does not have any missing values"
   ]
  },
  {
   "cell_type": "markdown",
   "metadata": {
    "id": "FMeXF0O_6Xqw"
   },
   "source": [
    "# 2. checking for duplicates"
   ]
  },
  {
   "cell_type": "code",
   "execution_count": 79,
   "metadata": {
    "colab": {
     "base_uri": "https://localhost:8080/"
    },
    "executionInfo": {
     "elapsed": 6,
     "status": "ok",
     "timestamp": 1666170317782,
     "user": {
      "displayName": "Akanksha Ugale",
      "userId": "02088164551666559591"
     },
     "user_tz": -330
    },
    "id": "P21sWCLa5y-x",
    "outputId": "4da5e1c8-99df-45e2-d83c-734c8b1f26e7"
   },
   "outputs": [
    {
     "data": {
      "text/plain": [
       "False"
      ]
     },
     "execution_count": 79,
     "metadata": {},
     "output_type": "execute_result"
    }
   ],
   "source": [
    "startup.duplicated().any()"
   ]
  },
  {
   "cell_type": "markdown",
   "metadata": {
    "id": "DBoUW5x561Go"
   },
   "source": [
    "# 3. Checking Outliers"
   ]
  },
  {
   "cell_type": "code",
   "execution_count": 80,
   "metadata": {
    "colab": {
     "base_uri": "https://localhost:8080/"
    },
    "executionInfo": {
     "elapsed": 8,
     "status": "ok",
     "timestamp": 1666170318389,
     "user": {
      "displayName": "Akanksha Ugale",
      "userId": "02088164551666559591"
     },
     "user_tz": -330
    },
    "id": "UxIsB6Un6hvY",
    "outputId": "eceefa4d-f14d-4ce5-fd1d-1acf441572e4"
   },
   "outputs": [
    {
     "name": "stdout",
     "output_type": "stream",
     "text": [
      "<class 'pandas.core.frame.DataFrame'>\n",
      "RangeIndex: 50 entries, 0 to 49\n",
      "Data columns (total 5 columns):\n",
      " #   Column           Non-Null Count  Dtype  \n",
      "---  ------           --------------  -----  \n",
      " 0   R&D Spend        50 non-null     float64\n",
      " 1   Administration   50 non-null     float64\n",
      " 2   Marketing Spend  50 non-null     float64\n",
      " 3   State            50 non-null     object \n",
      " 4   Profit           50 non-null     float64\n",
      "dtypes: float64(4), object(1)\n",
      "memory usage: 2.1+ KB\n"
     ]
    }
   ],
   "source": [
    "startup.info()"
   ]
  },
  {
   "cell_type": "code",
   "execution_count": 81,
   "metadata": {
    "colab": {
     "base_uri": "https://localhost:8080/",
     "height": 300
    },
    "executionInfo": {
     "elapsed": 13,
     "status": "ok",
     "timestamp": 1666170318918,
     "user": {
      "displayName": "Akanksha Ugale",
      "userId": "02088164551666559591"
     },
     "user_tz": -330
    },
    "id": "IX7FisFM67ux",
    "outputId": "476de10d-caad-4d27-f2fe-5ea1c04703b8"
   },
   "outputs": [
    {
     "data": {
      "text/html": [
       "<div>\n",
       "<style scoped>\n",
       "    .dataframe tbody tr th:only-of-type {\n",
       "        vertical-align: middle;\n",
       "    }\n",
       "\n",
       "    .dataframe tbody tr th {\n",
       "        vertical-align: top;\n",
       "    }\n",
       "\n",
       "    .dataframe thead th {\n",
       "        text-align: right;\n",
       "    }\n",
       "</style>\n",
       "<table border=\"1\" class=\"dataframe\">\n",
       "  <thead>\n",
       "    <tr style=\"text-align: right;\">\n",
       "      <th></th>\n",
       "      <th>R&amp;D Spend</th>\n",
       "      <th>Administration</th>\n",
       "      <th>Marketing Spend</th>\n",
       "      <th>Profit</th>\n",
       "    </tr>\n",
       "  </thead>\n",
       "  <tbody>\n",
       "    <tr>\n",
       "      <th>count</th>\n",
       "      <td>50.000000</td>\n",
       "      <td>50.000000</td>\n",
       "      <td>50.000000</td>\n",
       "      <td>50.000000</td>\n",
       "    </tr>\n",
       "    <tr>\n",
       "      <th>mean</th>\n",
       "      <td>73721.615600</td>\n",
       "      <td>121344.639600</td>\n",
       "      <td>211025.097800</td>\n",
       "      <td>112012.639200</td>\n",
       "    </tr>\n",
       "    <tr>\n",
       "      <th>std</th>\n",
       "      <td>45902.256482</td>\n",
       "      <td>28017.802755</td>\n",
       "      <td>122290.310726</td>\n",
       "      <td>40306.180338</td>\n",
       "    </tr>\n",
       "    <tr>\n",
       "      <th>min</th>\n",
       "      <td>0.000000</td>\n",
       "      <td>51283.140000</td>\n",
       "      <td>0.000000</td>\n",
       "      <td>14681.400000</td>\n",
       "    </tr>\n",
       "    <tr>\n",
       "      <th>25%</th>\n",
       "      <td>39936.370000</td>\n",
       "      <td>103730.875000</td>\n",
       "      <td>129300.132500</td>\n",
       "      <td>90138.902500</td>\n",
       "    </tr>\n",
       "    <tr>\n",
       "      <th>50%</th>\n",
       "      <td>73051.080000</td>\n",
       "      <td>122699.795000</td>\n",
       "      <td>212716.240000</td>\n",
       "      <td>107978.190000</td>\n",
       "    </tr>\n",
       "    <tr>\n",
       "      <th>75%</th>\n",
       "      <td>101602.800000</td>\n",
       "      <td>144842.180000</td>\n",
       "      <td>299469.085000</td>\n",
       "      <td>139765.977500</td>\n",
       "    </tr>\n",
       "    <tr>\n",
       "      <th>max</th>\n",
       "      <td>165349.200000</td>\n",
       "      <td>182645.560000</td>\n",
       "      <td>471784.100000</td>\n",
       "      <td>192261.830000</td>\n",
       "    </tr>\n",
       "  </tbody>\n",
       "</table>\n",
       "</div>"
      ],
      "text/plain": [
       "           R&D Spend  Administration  Marketing Spend         Profit\n",
       "count      50.000000       50.000000        50.000000      50.000000\n",
       "mean    73721.615600   121344.639600    211025.097800  112012.639200\n",
       "std     45902.256482    28017.802755    122290.310726   40306.180338\n",
       "min         0.000000    51283.140000         0.000000   14681.400000\n",
       "25%     39936.370000   103730.875000    129300.132500   90138.902500\n",
       "50%     73051.080000   122699.795000    212716.240000  107978.190000\n",
       "75%    101602.800000   144842.180000    299469.085000  139765.977500\n",
       "max    165349.200000   182645.560000    471784.100000  192261.830000"
      ]
     },
     "execution_count": 81,
     "metadata": {},
     "output_type": "execute_result"
    }
   ],
   "source": [
    "startup.describe()"
   ]
  },
  {
   "cell_type": "code",
   "execution_count": 82,
   "metadata": {
    "colab": {
     "base_uri": "https://localhost:8080/",
     "height": 175
    },
    "executionInfo": {
     "elapsed": 8,
     "status": "ok",
     "timestamp": 1666170319597,
     "user": {
      "displayName": "Akanksha Ugale",
      "userId": "02088164551666559591"
     },
     "user_tz": -330
    },
    "id": "sz3ZiIZG6-n0",
    "outputId": "30e301f6-3882-49cb-d320-9c909d8b9682"
   },
   "outputs": [
    {
     "data": {
      "text/html": [
       "<div>\n",
       "<style scoped>\n",
       "    .dataframe tbody tr th:only-of-type {\n",
       "        vertical-align: middle;\n",
       "    }\n",
       "\n",
       "    .dataframe tbody tr th {\n",
       "        vertical-align: top;\n",
       "    }\n",
       "\n",
       "    .dataframe thead th {\n",
       "        text-align: right;\n",
       "    }\n",
       "</style>\n",
       "<table border=\"1\" class=\"dataframe\">\n",
       "  <thead>\n",
       "    <tr style=\"text-align: right;\">\n",
       "      <th></th>\n",
       "      <th>R&amp;D Spend</th>\n",
       "      <th>Administration</th>\n",
       "      <th>Marketing Spend</th>\n",
       "      <th>Profit</th>\n",
       "    </tr>\n",
       "  </thead>\n",
       "  <tbody>\n",
       "    <tr>\n",
       "      <th>R&amp;D Spend</th>\n",
       "      <td>1.000000</td>\n",
       "      <td>0.241955</td>\n",
       "      <td>0.724248</td>\n",
       "      <td>0.972900</td>\n",
       "    </tr>\n",
       "    <tr>\n",
       "      <th>Administration</th>\n",
       "      <td>0.241955</td>\n",
       "      <td>1.000000</td>\n",
       "      <td>-0.032154</td>\n",
       "      <td>0.200717</td>\n",
       "    </tr>\n",
       "    <tr>\n",
       "      <th>Marketing Spend</th>\n",
       "      <td>0.724248</td>\n",
       "      <td>-0.032154</td>\n",
       "      <td>1.000000</td>\n",
       "      <td>0.747766</td>\n",
       "    </tr>\n",
       "    <tr>\n",
       "      <th>Profit</th>\n",
       "      <td>0.972900</td>\n",
       "      <td>0.200717</td>\n",
       "      <td>0.747766</td>\n",
       "      <td>1.000000</td>\n",
       "    </tr>\n",
       "  </tbody>\n",
       "</table>\n",
       "</div>"
      ],
      "text/plain": [
       "                 R&D Spend  Administration  Marketing Spend    Profit\n",
       "R&D Spend         1.000000        0.241955         0.724248  0.972900\n",
       "Administration    0.241955        1.000000        -0.032154  0.200717\n",
       "Marketing Spend   0.724248       -0.032154         1.000000  0.747766\n",
       "Profit            0.972900        0.200717         0.747766  1.000000"
      ]
     },
     "execution_count": 82,
     "metadata": {},
     "output_type": "execute_result"
    }
   ],
   "source": [
    "startup.corr()"
   ]
  },
  {
   "cell_type": "code",
   "execution_count": 83,
   "metadata": {
    "colab": {
     "base_uri": "https://localhost:8080/",
     "height": 362
    },
    "executionInfo": {
     "elapsed": 15,
     "status": "ok",
     "timestamp": 1666170320054,
     "user": {
      "displayName": "Akanksha Ugale",
      "userId": "02088164551666559591"
     },
     "user_tz": -330
    },
    "id": "ydv6406m7CYr",
    "outputId": "66139bc6-f0da-4ac9-cbf6-42ecf4a4259a"
   },
   "outputs": [
    {
     "name": "stderr",
     "output_type": "stream",
     "text": [
      "C:\\Users\\Admin\\anaconda3\\lib\\site-packages\\seaborn\\distributions.py:2619: FutureWarning: `distplot` is a deprecated function and will be removed in a future version. Please adapt your code to use either `displot` (a figure-level function with similar flexibility) or `histplot` (an axes-level function for histograms).\n",
      "  warnings.warn(msg, FutureWarning)\n"
     ]
    },
    {
     "data": {
      "text/plain": [
       "<AxesSubplot:xlabel='Profit', ylabel='Density'>"
      ]
     },
     "execution_count": 83,
     "metadata": {},
     "output_type": "execute_result"
    },
    {
     "data": {
      "image/png": "[encoded data removed]",
      "text/plain": [
       "<Figure size 640x480 with 1 Axes>"
      ]
     },
     "metadata": {},
     "output_type": "display_data"
    }
   ],
   "source": [
    "sns.distplot(startup['Profit'])"
   ]
  },
  {
   "cell_type": "markdown",
   "metadata": {
    "id": "e0kqT0Nj7fJ9"
   },
   "source": [
    "It is normally distributed"
   ]
  },
  {
   "cell_type": "code",
   "execution_count": 84,
   "metadata": {
    "colab": {
     "base_uri": "https://localhost:8080/",
     "height": 977
    },
    "executionInfo": {
     "elapsed": 6624,
     "status": "ok",
     "timestamp": 1666170328693,
     "user": {
      "displayName": "Akanksha Ugale",
      "userId": "02088164551666559591"
     },
     "user_tz": -330
    },
    "id": "zv0Esxpw7Ppq",
    "outputId": "d84ef64f-413c-4211-ff43-72b27053c62e"
   },
   "outputs": [
    {
     "data": {
      "text/plain": [
       "<seaborn.axisgrid.PairGrid at 0x14fe602d430>"
      ]
     },
     "execution_count": 84,
     "metadata": {},
     "output_type": "execute_result"
    },
    {
     "data": {
      "image/png": "[encoded data removed]",
      "text/plain": [
       "<Figure size 1600x1600 with 20 Axes>"
      ]
     },
     "metadata": {},
     "output_type": "display_data"
    }
   ],
   "source": [
    "sns.pairplot(startup,height=4,aspect=1)"
   ]
  },
  {
   "cell_type": "code",
   "execution_count": 85,
   "metadata": {
    "colab": {
     "base_uri": "https://localhost:8080/",
     "height": 344
    },
    "executionInfo": {
     "elapsed": 904,
     "status": "ok",
     "timestamp": 1666170329587,
     "user": {
      "displayName": "Akanksha Ugale",
      "userId": "02088164551666559591"
     },
     "user_tz": -330
    },
    "id": "U6OdV5iMGKpB",
    "outputId": "c684fcbd-32db-4a0f-81b8-1959bc94c87f"
   },
   "outputs": [
    {
     "data": {
      "image/png": "[encoded data removed]",
      "text/plain": [
       "<Figure size 640x480 with 2 Axes>"
      ]
     },
     "metadata": {},
     "output_type": "display_data"
    }
   ],
   "source": [
    "sns.heatmap(startup.corr(),annot = True);"
   ]
  },
  {
   "cell_type": "markdown",
   "metadata": {
    "id": "bdRqqmDrGcGL"
   },
   "source": [
    "conclusion: R&D Spend seems to be more correlated with profit as 0.97 is very near to 1"
   ]
  },
  {
   "cell_type": "markdown",
   "metadata": {
    "id": "5VqayhGHHjH4"
   },
   "source": [
    "# Model Building"
   ]
  },
  {
   "cell_type": "markdown",
   "metadata": {
    "id": "Bv83pboyIUcI"
   },
   "source": [
    "# Simple Linear Regression\n",
    "Let X be R&D Spend an y means target column be Profit"
   ]
  },
  {
   "cell_type": "code",
   "execution_count": 86,
   "metadata": {
    "executionInfo": {
     "elapsed": 40,
     "status": "ok",
     "timestamp": 1666170329590,
     "user": {
      "displayName": "Akanksha Ugale",
      "userId": "02088164551666559591"
     },
     "user_tz": -330
    },
    "id": "vadkWWkYGVAf"
   },
   "outputs": [],
   "source": [
    "from sklearn.model_selection import train_test_split\n",
    "from sklearn.linear_model import LinearRegression\n",
    "from sklearn import metrics"
   ]
  },
  {
   "cell_type": "code",
   "execution_count": 87,
   "metadata": {
    "executionInfo": {
     "elapsed": 40,
     "status": "ok",
     "timestamp": 1666170329592,
     "user": {
      "displayName": "Akanksha Ugale",
      "userId": "02088164551666559591"
     },
     "user_tz": -330
    },
    "id": "RKwuROssK1Kx"
   },
   "outputs": [],
   "source": [
    "#Step 1: select dependent and independent variables (ie. x and y)\n",
    "#setting the value for x and y\n",
    "x = startup[['R&D Spend']]\n",
    "y = startup['Profit']"
   ]
  },
  {
   "cell_type": "code",
   "execution_count": 88,
   "metadata": {
    "executionInfo": {
     "elapsed": 41,
     "status": "ok",
     "timestamp": 1666170329595,
     "user": {
      "displayName": "Akanksha Ugale",
      "userId": "02088164551666559591"
     },
     "user_tz": -330
    },
    "id": "Avh2jdi8LZwI"
   },
   "outputs": [],
   "source": [
    "#Step 2: bifurcation of data into train and test data\n",
    "x_train,x_test,y_train,y_test = train_test_split(x,y,train_size=0.8,random_state=42)"
   ]
  },
  {
   "cell_type": "code",
   "execution_count": 89,
   "metadata": {
    "executionInfo": {
     "elapsed": 42,
     "status": "ok",
     "timestamp": 1666170329597,
     "user": {
      "displayName": "Akanksha Ugale",
      "userId": "02088164551666559591"
     },
     "user_tz": -330
    },
    "id": "JBsSJyjGLqa0"
   },
   "outputs": [],
   "source": [
    "# Step 3: Model Instantiation\n",
    "slr=LinearRegression()"
   ]
  },
  {
   "cell_type": "code",
   "execution_count": 90,
   "metadata": {
    "colab": {
     "base_uri": "https://localhost:8080/"
    },
    "executionInfo": {
     "elapsed": 43,
     "status": "ok",
     "timestamp": 1666170329599,
     "user": {
      "displayName": "Akanksha Ugale",
      "userId": "02088164551666559591"
     },
     "user_tz": -330
    },
    "id": "1-8ErfTELquM",
    "outputId": "b43a9063-65cc-4b1d-a97e-a8a90404fb7b"
   },
   "outputs": [
    {
     "data": {
      "text/plain": [
       "LinearRegression()"
      ]
     },
     "execution_count": 90,
     "metadata": {},
     "output_type": "execute_result"
    }
   ],
   "source": [
    "# Step 4: fit the model with train data\n",
    "slr.fit(x_train,y_train)"
   ]
  },
  {
   "cell_type": "code",
   "execution_count": 91,
   "metadata": {
    "colab": {
     "base_uri": "https://localhost:8080/"
    },
    "executionInfo": {
     "elapsed": 41,
     "status": "ok",
     "timestamp": 1666170329601,
     "user": {
      "displayName": "Akanksha Ugale",
      "userId": "02088164551666559591"
     },
     "user_tz": -330
    },
    "id": "CETAjLBgL1SE",
    "outputId": "038df7a4-6f5a-4f3c-e156-8652ab4ed3dd"
   },
   "outputs": [
    {
     "name": "stdout",
     "output_type": "stream",
     "text": [
      "Intercept: 49336.66803799113\n",
      "Coefficient: [0.85360911]\n"
     ]
    }
   ],
   "source": [
    "# Printing the model coefficients\n",
    "print('Intercept:',slr.intercept_)\n",
    "print('Coefficient:',slr.coef_)"
   ]
  },
  {
   "cell_type": "code",
   "execution_count": 92,
   "metadata": {
    "colab": {
     "base_uri": "https://localhost:8080/"
    },
    "executionInfo": {
     "elapsed": 38,
     "status": "ok",
     "timestamp": 1666170329602,
     "user": {
      "displayName": "Akanksha Ugale",
      "userId": "02088164551666559591"
     },
     "user_tz": -330
    },
    "id": "8P6HQv3NL1Vx",
    "outputId": "c8efc48f-4064-4d08-f536-a6f9a3cdd069"
   },
   "outputs": [
    {
     "name": "stdout",
     "output_type": "stream",
     "text": [
      "regression Equation: 50_startup = 49336.66 + 0.85 *R&DSpend\n"
     ]
    }
   ],
   "source": [
    "print('regression Equation: 50_startup = 49336.66 + 0.85 *R&DSpend')"
   ]
  },
  {
   "cell_type": "code",
   "execution_count": 93,
   "metadata": {
    "colab": {
     "base_uri": "https://localhost:8080/",
     "height": 268
    },
    "executionInfo": {
     "elapsed": 34,
     "status": "ok",
     "timestamp": 1666170329603,
     "user": {
      "displayName": "Akanksha Ugale",
      "userId": "02088164551666559591"
     },
     "user_tz": -330
    },
    "id": "U0dc4FeTNxkw",
    "outputId": "3c7ea1f8-b5d8-4135-ed40-d604103bc1d0"
   },
   "outputs": [
    {
     "data": {
      "image/png": "[encoded data removed]",
      "text/plain": [
       "<Figure size 640x480 with 1 Axes>"
      ]
     },
     "metadata": {},
     "output_type": "display_data"
    }
   ],
   "source": [
    "# line of best fit\n",
    "plt.scatter(x_train,y_train)\n",
    "plt.plot(x_train, 49336.66 + 0.85 * x_train,'r')\n",
    "plt.show();"
   ]
  },
  {
   "cell_type": "code",
   "execution_count": 94,
   "metadata": {
    "executionInfo": {
     "elapsed": 4,
     "status": "ok",
     "timestamp": 1666170331720,
     "user": {
      "displayName": "Akanksha Ugale",
      "userId": "02088164551666559591"
     },
     "user_tz": -330
    },
    "id": "U1V6sBvGOAHp"
   },
   "outputs": [],
   "source": [
    "# prediction of testand training set result\n",
    "y_pred_slr = slr.predict(x_test)"
   ]
  },
  {
   "cell_type": "code",
   "execution_count": 95,
   "metadata": {
    "colab": {
     "base_uri": "https://localhost:8080/",
     "height": 363
    },
    "executionInfo": {
     "elapsed": 9,
     "status": "ok",
     "timestamp": 1666170332765,
     "user": {
      "displayName": "Akanksha Ugale",
      "userId": "02088164551666559591"
     },
     "user_tz": -330
    },
    "id": "y9e3fmHZOGAc",
    "outputId": "20893fb1-d2ca-45ee-b93c-38e8745c5261"
   },
   "outputs": [
    {
     "data": {
      "text/html": [
       "<div>\n",
       "<style scoped>\n",
       "    .dataframe tbody tr th:only-of-type {\n",
       "        vertical-align: middle;\n",
       "    }\n",
       "\n",
       "    .dataframe tbody tr th {\n",
       "        vertical-align: top;\n",
       "    }\n",
       "\n",
       "    .dataframe thead th {\n",
       "        text-align: right;\n",
       "    }\n",
       "</style>\n",
       "<table border=\"1\" class=\"dataframe\">\n",
       "  <thead>\n",
       "    <tr style=\"text-align: right;\">\n",
       "      <th></th>\n",
       "      <th>Actual value</th>\n",
       "      <th>Predicted value</th>\n",
       "    </tr>\n",
       "  </thead>\n",
       "  <tbody>\n",
       "    <tr>\n",
       "      <th>13</th>\n",
       "      <td>134307.35</td>\n",
       "      <td>127862.209964</td>\n",
       "    </tr>\n",
       "    <tr>\n",
       "      <th>39</th>\n",
       "      <td>81005.76</td>\n",
       "      <td>82250.563346</td>\n",
       "    </tr>\n",
       "    <tr>\n",
       "      <th>30</th>\n",
       "      <td>99937.59</td>\n",
       "      <td>102255.720782</td>\n",
       "    </tr>\n",
       "    <tr>\n",
       "      <th>45</th>\n",
       "      <td>64926.08</td>\n",
       "      <td>50190.473476</td>\n",
       "    </tr>\n",
       "    <tr>\n",
       "      <th>17</th>\n",
       "      <td>125370.37</td>\n",
       "      <td>130136.881905</td>\n",
       "    </tr>\n",
       "    <tr>\n",
       "      <th>48</th>\n",
       "      <td>35673.41</td>\n",
       "      <td>49799.366855</td>\n",
       "    </tr>\n",
       "    <tr>\n",
       "      <th>26</th>\n",
       "      <td>105733.54</td>\n",
       "      <td>113638.077529</td>\n",
       "    </tr>\n",
       "    <tr>\n",
       "      <th>25</th>\n",
       "      <td>107404.34</td>\n",
       "      <td>104535.053429</td>\n",
       "    </tr>\n",
       "    <tr>\n",
       "      <th>32</th>\n",
       "      <td>97427.84</td>\n",
       "      <td>103463.048431</td>\n",
       "    </tr>\n",
       "    <tr>\n",
       "      <th>19</th>\n",
       "      <td>122776.86</td>\n",
       "      <td>123105.311027</td>\n",
       "    </tr>\n",
       "  </tbody>\n",
       "</table>\n",
       "</div>"
      ],
      "text/plain": [
       "    Actual value  Predicted value\n",
       "13     134307.35    127862.209964\n",
       "39      81005.76     82250.563346\n",
       "30      99937.59    102255.720782\n",
       "45      64926.08     50190.473476\n",
       "17     125370.37    130136.881905\n",
       "48      35673.41     49799.366855\n",
       "26     105733.54    113638.077529\n",
       "25     107404.34    104535.053429\n",
       "32      97427.84    103463.048431\n",
       "19     122776.86    123105.311027"
      ]
     },
     "execution_count": 95,
     "metadata": {},
     "output_type": "execute_result"
    }
   ],
   "source": [
    "# actual value and the predicted value\n",
    "slr_diff = pd.DataFrame({'Actual value': y_test, 'Predicted value': y_pred_slr})\n",
    "slr_diff "
   ]
  },
  {
   "cell_type": "code",
   "execution_count": 96,
   "metadata": {
    "colab": {
     "base_uri": "https://localhost:8080/"
    },
    "executionInfo": {
     "elapsed": 16,
     "status": "ok",
     "timestamp": 1666170335475,
     "user": {
      "displayName": "Akanksha Ugale",
      "userId": "02088164551666559591"
     },
     "user_tz": -330
    },
    "id": "QYXOD5a4OJmy",
    "outputId": "7a20e79f-6180-4789-bf46-826bd97d4a80"
   },
   "outputs": [
    {
     "name": "stderr",
     "output_type": "stream",
     "text": [
      "C:\\Users\\Admin\\anaconda3\\lib\\site-packages\\sklearn\\base.py:450: UserWarning: X does not have valid feature names, but LinearRegression was fitted with feature names\n",
      "  warnings.warn(\n"
     ]
    },
    {
     "data": {
      "text/plain": [
       "array([142550.78257862])"
      ]
     },
     "execution_count": 96,
     "metadata": {},
     "output_type": "execute_result"
    }
   ],
   "source": [
    "#Predict for any value\n",
    "slr.predict([[109200]])"
   ]
  },
  {
   "cell_type": "code",
   "execution_count": 97,
   "metadata": {
    "colab": {
     "base_uri": "https://localhost:8080/"
    },
    "executionInfo": {
     "elapsed": 4,
     "status": "ok",
     "timestamp": 1666170337822,
     "user": {
      "displayName": "Akanksha Ugale",
      "userId": "02088164551666559591"
     },
     "user_tz": -330
    },
    "id": "aJEkrpiGRehC",
    "outputId": "ab230b89-e174-4734-e153-0bd9a740797b"
   },
   "outputs": [
    {
     "name": "stderr",
     "output_type": "stream",
     "text": [
      "C:\\Users\\Admin\\anaconda3\\lib\\site-packages\\sklearn\\base.py:450: UserWarning: X does not have valid feature names, but LinearRegression was fitted with feature names\n",
      "  warnings.warn(\n"
     ]
    },
    {
     "data": {
      "text/plain": [
       "array([132990.36057445])"
      ]
     },
     "execution_count": 97,
     "metadata": {},
     "output_type": "execute_result"
    }
   ],
   "source": [
    "slr.predict(np.array([98000]).reshape(1,-1))"
   ]
  },
  {
   "cell_type": "code",
   "execution_count": 98,
   "metadata": {
    "colab": {
     "base_uri": "https://localhost:8080/"
    },
    "executionInfo": {
     "elapsed": 5,
     "status": "ok",
     "timestamp": 1666170340186,
     "user": {
      "displayName": "Akanksha Ugale",
      "userId": "02088164551666559591"
     },
     "user_tz": -330
    },
    "id": "VCDvdorAOVow",
    "outputId": "2001ca8d-f71b-4008-f96c-d4acbd87896f"
   },
   "outputs": [
    {
     "name": "stdout",
     "output_type": "stream",
     "text": [
      "Training = 0.9467864227524652 testing = 0.9265108109341951\n"
     ]
    }
   ],
   "source": [
    "from sklearn.metrics import r2_score\n",
    "y_test_pred = slr.predict(x_test)\n",
    "\n",
    "y_train_pred = slr.predict(x_train)\n",
    "a = r2_score(y_train,y_train_pred)\n",
    "b = r2_score(y_test,y_test_pred)\n",
    "print('Training = {} testing = {}'.format(a,b))"
   ]
  },
  {
   "cell_type": "markdown",
   "metadata": {
    "id": "cR5XkrFJPInP"
   },
   "source": [
    "Conclusion : 94.67% of the data fit the regression model"
   ]
  },
  {
   "cell_type": "code",
   "execution_count": 99,
   "metadata": {
    "colab": {
     "base_uri": "https://localhost:8080/"
    },
    "executionInfo": {
     "elapsed": 681,
     "status": "ok",
     "timestamp": 1666170348416,
     "user": {
      "displayName": "Akanksha Ugale",
      "userId": "02088164551666559591"
     },
     "user_tz": -330
    },
    "id": "egFkWr3qOble",
    "outputId": "10ef2607-1d9e-4834-fb5b-c379d3c69d90"
   },
   "outputs": [
    {
     "name": "stdout",
     "output_type": "stream",
     "text": [
      "Mean Absolute Error: 6077.363300620399\n",
      "mean Squared Error: 59510962.80787996\n",
      "Root Mean Squared Error: 7714.334890830185\n"
     ]
    }
   ],
   "source": [
    "meanAbErr = metrics.mean_absolute_error(y_test,y_test_pred)\n",
    "meanSqerr = metrics.mean_squared_error(y_test,y_test_pred)\n",
    "rootMeanSqErr = np.sqrt(meanSqerr)\n",
    "print('Mean Absolute Error:',meanAbErr)\n",
    "print('mean Squared Error:',meanSqerr)\n",
    "print('Root Mean Squared Error:',rootMeanSqErr)"
   ]
  },
  {
   "cell_type": "markdown",
   "metadata": {
    "id": "n8Gb7j0qQoUj"
   },
   "source": [
    "# multiple Linear Regression"
   ]
  },
  {
   "cell_type": "code",
   "execution_count": 100,
   "metadata": {
    "executionInfo": {
     "elapsed": 7,
     "status": "ok",
     "timestamp": 1666170348940,
     "user": {
      "displayName": "Akanksha Ugale",
      "userId": "02088164551666559591"
     },
     "user_tz": -330
    },
    "id": "F3CyBJVxQk0E"
   },
   "outputs": [],
   "source": [
    "# setting the x and y value\n",
    "x = startup[['R&D Spend', 'Marketing Spend']]\n",
    "y = startup['Profit']"
   ]
  },
  {
   "cell_type": "markdown",
   "metadata": {},
   "source": [
    "## Standardization"
   ]
  },
  {
   "cell_type": "code",
   "execution_count": 101,
   "metadata": {},
   "outputs": [],
   "source": [
    "from sklearn.preprocessing import StandardScaler\n",
    "\n",
    "scaler = StandardScaler()\n",
    "# transform data\n",
    "x_scaled = scaler.fit_transform(x)"
   ]
  },
  {
   "cell_type": "code",
   "execution_count": 102,
   "metadata": {
    "executionInfo": {
     "elapsed": 3,
     "status": "ok",
     "timestamp": 1666170349719,
     "user": {
      "displayName": "Akanksha Ugale",
      "userId": "02088164551666559591"
     },
     "user_tz": -330
    },
    "id": "LB8t1E3BRZPl"
   },
   "outputs": [],
   "source": [
    "#Step 2: bifurcation of data into train and test data\n",
    "x_train,x_test,y_train,y_test = train_test_split(x_scaled,y,train_size=0.8,random_state=42)"
   ]
  },
  {
   "cell_type": "code",
   "execution_count": 103,
   "metadata": {
    "colab": {
     "base_uri": "https://localhost:8080/"
    },
    "executionInfo": {
     "elapsed": 18,
     "status": "ok",
     "timestamp": 1666170350485,
     "user": {
      "displayName": "Akanksha Ugale",
      "userId": "02088164551666559591"
     },
     "user_tz": -330
    },
    "id": "rzP-lCHgRot1",
    "outputId": "8bfc99f5-2835-4c55-c365-527d3f26ddb0"
   },
   "outputs": [
    {
     "data": {
      "text/plain": [
       "LinearRegression()"
      ]
     },
     "execution_count": 103,
     "metadata": {},
     "output_type": "execute_result"
    }
   ],
   "source": [
    "mlr = LinearRegression()\n",
    "mlr.fit(x_train,y_train)"
   ]
  },
  {
   "cell_type": "code",
   "execution_count": 104,
   "metadata": {
    "colab": {
     "base_uri": "https://localhost:8080/"
    },
    "executionInfo": {
     "elapsed": 11,
     "status": "ok",
     "timestamp": 1666170350487,
     "user": {
      "displayName": "Akanksha Ugale",
      "userId": "02088164551666559591"
     },
     "user_tz": -330
    },
    "id": "V8Ie8SbxRryr",
    "outputId": "6037af61-ee5d-4340-b434-2a11bcce9cbb"
   },
   "outputs": [
    {
     "name": "stdout",
     "output_type": "stream",
     "text": [
      "Intercept: 111574.59251080672\n",
      "Coefficient: [35597.24609681  4750.41694319]\n"
     ]
    }
   ],
   "source": [
    "# Printing the model coefficients\n",
    "print('Intercept:',mlr.intercept_)\n",
    "print('Coefficient:',mlr.coef_)"
   ]
  },
  {
   "cell_type": "code",
   "execution_count": 105,
   "metadata": {
    "executionInfo": {
     "elapsed": 3,
     "status": "ok",
     "timestamp": 1666170351094,
     "user": {
      "displayName": "Akanksha Ugale",
      "userId": "02088164551666559591"
     },
     "user_tz": -330
    },
    "id": "AP5ncUzORxq8"
   },
   "outputs": [],
   "source": [
    "y_pred_mlr = mlr.predict(x_test)"
   ]
  },
  {
   "cell_type": "code",
   "execution_count": 106,
   "metadata": {
    "colab": {
     "base_uri": "https://localhost:8080/"
    },
    "executionInfo": {
     "elapsed": 9,
     "status": "ok",
     "timestamp": 1666170351583,
     "user": {
      "displayName": "Akanksha Ugale",
      "userId": "02088164551666559591"
     },
     "user_tz": -330
    },
    "id": "zw83kDEjR41O",
    "outputId": "edab3163-386a-4cc0-e801-07a798bcf177"
   },
   "outputs": [
    {
     "data": {
      "text/plain": [
       "array([127521.38604123,  82615.07411457,  97683.2462344 ,  46400.65677644,\n",
       "       130782.53611917,  45967.0205249 , 109813.19061887, 101612.68921418,\n",
       "        97023.64013854, 113241.36575804])"
      ]
     },
     "execution_count": 106,
     "metadata": {},
     "output_type": "execute_result"
    }
   ],
   "source": [
    "y_pred_mlr"
   ]
  },
  {
   "cell_type": "code",
   "execution_count": 107,
   "metadata": {
    "colab": {
     "base_uri": "https://localhost:8080/"
    },
    "executionInfo": {
     "elapsed": 5,
     "status": "ok",
     "timestamp": 1666170351944,
     "user": {
      "displayName": "Akanksha Ugale",
      "userId": "02088164551666559591"
     },
     "user_tz": -330
    },
    "id": "6n5TKTuqR8CL",
    "outputId": "5c9d1347-e67b-46fc-ca75-ffa3f3ba9253"
   },
   "outputs": [
    {
     "name": "stdout",
     "output_type": "stream",
     "text": [
      "Training = 95.19% testing = 91.68%\n"
     ]
    }
   ],
   "source": [
    "from sklearn.metrics import r2_score\n",
    "y_test_pred = mlr.predict(x_test)\n",
    "\n",
    "y_train_pred = mlr.predict(x_train)\n",
    "a = r2_score(y_train,y_train_pred)*100\n",
    "b = r2_score(y_test,y_test_pred)*100\n",
    "print('Training = {:.2f}% testing = {:.2f}%'.format(a,b))"
   ]
  },
  {
   "cell_type": "markdown",
   "metadata": {
    "executionInfo": {
     "elapsed": 4,
     "status": "ok",
     "timestamp": 1666170352488,
     "user": {
      "displayName": "Akanksha Ugale",
      "userId": "02088164551666559591"
     },
     "user_tz": -330
    },
    "id": "uWlM9qCPSAod"
   },
   "source": [
    "### Multiple Regression has given R2_score = 95.19% for trining & R2_score  = 91.68% for testing so We can say this is a generalized model"
   ]
  },
  {
   "cell_type": "code",
   "execution_count": null,
   "metadata": {},
   "outputs": [],
   "source": []
  }
 ],
 "metadata": {
  "colab": {
   "authorship_tag": "ABX9TyOuyOeYM6MbT2jraulXV4EE",
   "provenance": []
  },
  "kernelspec": {
   "display_name": "Python 3 (ipykernel)",
   "language": "python",
   "name": "python3"
  },
  "language_info": {
   "codemirror_mode": {
    "name": "ipython",
    "version": 3
   },
   "file_extension": ".py",
   "mimetype": "text/x-python",
   "name": "python",
   "nbconvert_exporter": "python",
   "pygments_lexer": "ipython3",
   "version": "3.9.13"
  }
 },
 "nbformat": 4,
 "nbformat_minor": 4
}
